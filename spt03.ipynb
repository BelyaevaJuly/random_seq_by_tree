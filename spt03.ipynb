{
 "cells": [
  {
   "cell_type": "code",
   "execution_count": 73,
   "metadata": {},
   "outputs": [],
   "source": [
    "import ete3\n",
    "from ete3 import Tree\n",
    "import os\n",
    "import os\n",
    "import glob\n",
    "import numpy as np\n",
    "from Bio import AlignIO \n",
    "import random\n",
    "import re\n",
    "import copy"
   ]
  },
  {
   "cell_type": "code",
   "execution_count": 74,
   "metadata": {},
   "outputs": [],
   "source": [
    "t = Tree(\"(((A:0.687, B:0.601):1.244,(C:0.804,(D:0.015, E:0.017):0.79):0.333):0.555,F:1.001);\")"
   ]
  },
  {
   "cell_type": "code",
   "execution_count": 76,
   "metadata": {},
   "outputs": [
    {
     "data": {
      "text/plain": [
       "'/home/julybel/trash/sas/Alignments/block_aln'"
      ]
     },
     "execution_count": 76,
     "metadata": {},
     "output_type": "execute_result"
    }
   ],
   "source": [
    "os.getcwd()\n",
    "#os.chdir(\"./Alignments/block_aln/\")"
   ]
  },
  {
   "cell_type": "markdown",
   "metadata": {},
   "source": [
    "# Getting block-alignment"
   ]
  },
  {
   "cell_type": "code",
   "execution_count": null,
   "metadata": {},
   "outputs": [],
   "source": [
    "for file in glob.glob(\"*.fasta\"):\n",
    "    with open(file, 'r') as fname:\n",
    "        matrix = np.array([np.array(rec.seq) for rec in AlignIO.read(fname, \"fasta\")])\n",
    "        names = [rec.name for rec in AlignIO.read(\"PF00004_1.fasta\", \"fasta\")]\n",
    "        indexes = [num for num in range(matrix.shape[1]) if list(matrix[:,num]).count(\"-\") > len(matrix[:,num]) * 0.5]\n",
    "        matrix = np.delete(matrix, indexes, axis=1)\n",
    "    with open(\"./block_aln/\"+file.split(\".\")[0]+\"_block.fasta\", 'w') as fname:\n",
    "        for name, seq in zip(names, list(matrix)):\n",
    "            fname.write(\">\" + name + '\\n' + ''.join(list(seq)) + '\\n')"
   ]
  },
  {
   "cell_type": "markdown",
   "metadata": {},
   "source": [
    "# New way"
   ]
  },
  {
   "cell_type": "code",
   "execution_count": 132,
   "metadata": {},
   "outputs": [],
   "source": [
    "class nd:\n",
    "    def __init__(self, seq):\n",
    "        self.seq = seq\n",
    "    def children(self, children):\n",
    "        self.children = children\n",
    "    def dist(self, dist):\n",
    "        self.dist = dist\n",
    "    def name(self, name):\n",
    "        self.name = name"
   ]
  },
  {
   "cell_type": "code",
   "execution_count": 166,
   "metadata": {},
   "outputs": [],
   "source": [
    "class parser(nd):\n",
    "    def __init__(self, x, tree):\n",
    "        self.x = x\n",
    "        self.t = tree\n",
    "        super().__init__(0)\n",
    "\n",
    "    #Choose random alignment (with seq_len more than self.x)\n",
    "    def random_aln(self):\n",
    "        while True:\n",
    "            file = random.choice([file for file in glob.glob(\"*.fasta\")])\n",
    "            aln = AlignIO.read(open(file, 'r'), \"fasta\")\n",
    "            if len(str(aln[0].seq)) >= self.x:\n",
    "                break\n",
    "        self.file = file\n",
    "        self.alignment_dict = {record.id:str(record.seq) for record in aln}\n",
    "        \n",
    "    #Make root sequence and pin columns   \n",
    "    def root_seq(self):\n",
    "        column_id = [random.randint(0, self.x) for _ in range(self.x)]\n",
    "        a = AlignIO.read(open(self.file, 'r'), \"fasta\")\n",
    "        names, seq = [],''\n",
    "        for num in range(self.x):\n",
    "            record = random.randint(0, len(a)-1)\n",
    "            names.append(a[record].id)\n",
    "            seq += str(a[record].seq)[column_id[num]] \n",
    "        self.columns = column_id\n",
    "        self.seq = seq\n",
    "        self.names = names\n",
    "             \n",
    "    #Make all_dists and all_id lists\n",
    "    def dists(self):\n",
    "        all_id, all_dists, values, one_id = [], [], [], ''\n",
    "        with open(self.file[:-12]+\".dist\", 'r') as fname:\n",
    "            for string in fname:\n",
    "                if re.search(\"[A-Za-z]+\", string) != None:\n",
    "                    all_id.append(one_id)\n",
    "                    all_dists.append(values)\n",
    "                    one_id, values = string.split()[0], string.split()[1:]\n",
    "                else:\n",
    "                    values += string.split()\n",
    "            all_id.append(one_id)\n",
    "            all_dists.append(values)\n",
    "        self.all_id = all_id[1:]\n",
    "        self.all_dists = all_dists[1:]\n",
    "        \n",
    "    #NORMALIZATION\n",
    "    def normal(self):\n",
    "        container = []\n",
    "        tree_max = 1.244\n",
    "        for subset in self.all_dists:\n",
    "            dist_max = max([float(num) for num in subset])\n",
    "            dist_min = 10\n",
    "            for i in subset:\n",
    "                if float(i) < float(dist_min) and float(i) != float(0):\n",
    "                    dist_min = i\n",
    "            dist_diff = float(dist_max) - float(dist_min)\n",
    "            alpha = dist_diff / (1.244 - 0.015)\n",
    "            container.append(list(map(lambda x: str(float(x)*alpha), subset)))\n",
    "        #print(container)\n",
    "        self.all_dists = container\n",
    "            \n",
    "    #Make sequences\n",
    "    def make_sample(self):\n",
    "        nodes, graph, lvl = [], [], -1\n",
    "        \n",
    "        checker = []\n",
    "        for node in self.t.traverse(\"levelorder\"):\n",
    "            for i in list(map(lambda x: x.dist, node.children)):\n",
    "                graph.append([node.dist, i])        \n",
    "        for node in self.t.traverse(\"levelorder\"):\n",
    "            for i in list(map(lambda x: x.dist, node.children)):\n",
    "                checker.append([node.dist, i])        \n",
    "        self.graph = graph  \n",
    "        self.checker = checker\n",
    "        lvl = 0\n",
    "        while self.graph[lvl][0] == 0.0:\n",
    "            self.graph[lvl][0] = self.names \n",
    "            #self.checker[lvl][0] = self.seq\n",
    "            lvl += 1  \n",
    "        check_point_dists = copy.deepcopy(self.all_dists)\n",
    "        prev = ''\n",
    "        \n",
    "        for item in self.graph:\n",
    "            if item[0] != prev:\n",
    "                self.all_dists = copy.deepcopy(check_point_dists)\n",
    "            else:\n",
    "                for i in self.all_dists:\n",
    "                    pass\n",
    "            self.names = item[0]\n",
    "            dist = float(item[1])\n",
    "            seq = ''\n",
    "            names = []\n",
    "            less, more, less_index, more_index = 100, 100, [], [] #0, 0      \n",
    "            \n",
    "            #################################################################################\n",
    "            # Generating sequence\n",
    "            for al_num in range(len(self.names)):\n",
    "                values = self.all_dists[self.all_id.index(self.names[al_num])]\n",
    "                less, more = 100, 100\n",
    "                for i in range(len(values)):\n",
    "                    if float(values[i]) <= dist and abs(float(values[i])-dist) < abs(float(less)-dist):\n",
    "                        less = values[i]\n",
    "                    elif float(values[i]) > dist and abs(float(values[i])-dist) < abs(float(more)-dist):\n",
    "                        more = values[i]\n",
    "                if less != 100 and more != 100:\n",
    "                    our_dist = random.choice([less, more])\n",
    "                else:\n",
    "                    if less != 100: our_dist = less\n",
    "                    elif more != 100: our_dist = more\n",
    "                #print(values)\n",
    "                ind = random.choice([i for i, x in enumerate(values) if x == our_dist])\n",
    "                self.all_dists[self.all_dists.index(values)][ind] = '1000'\n",
    "                names.append(self.all_id[ind])\n",
    "                seq += self.alignment_dict[self.all_id[ind]][self.columns[al_num]]\n",
    "            i = 0\n",
    "            while True:\n",
    "                if i == len(graph):\n",
    "                    break\n",
    "                if self.graph[i][0] == dist:\n",
    "                    break\n",
    "                i += 1\n",
    "            while True:\n",
    "                if i == len(graph):\n",
    "                    break\n",
    "                if self.graph[i][0] != dist:\n",
    "                    break\n",
    "                if self.graph[i][0] == dist:\n",
    "                    self.graph[i][0] = names\n",
    "                    #self.checker[i][0] = seq\n",
    "                i += 1\n",
    "            print(seq, item[1])\n",
    "            nodes.append(nd(seq))\n",
    "            prev = item[0]\n",
    "        self.sample = nodes\n",
    "        \n",
    "    # Appending information of dist\n",
    "    def app_inf(self):\n",
    "        j = 0\n",
    "        for node in self.t.traverse(\"levelorder\"):\n",
    "            for i in list(map(lambda x:x.dist, node.children)):\n",
    "                self.sample[j].dist = float(i)\n",
    "                j += 1\n",
    "        for node in self.sample:\n",
    "            anchor = node.dist\n",
    "            node.children = []\n",
    "            for pair in self.checker:\n",
    "                if anchor == pair[0]:\n",
    "                    node.children.append(pair[1])\n",
    "        for node in self.sample:\n",
    "            for i in range(len(node.children)):\n",
    "                for child in self.sample:\n",
    "                    if node.children[i] == child.dist:\n",
    "                        node.children[i] = child.seq\n",
    "        j = 0\n",
    "        for item in self.sample:\n",
    "            item.name = ''\n",
    "        for node in self.t.iter_descendants(\"levelorder\"):\n",
    "            for item in self.sample:\n",
    "                if item.dist == node.dist:\n",
    "                    item.name = node.name"
   ]
  },
  {
   "cell_type": "code",
   "execution_count": 184,
   "metadata": {
    "scrolled": true
   },
   "outputs": [
    {
     "name": "stdout",
     "output_type": "stream",
     "text": [
      "HSHASDETS-LVHGE-TYFYEPCESN-HASTCAYILHTHYFALTGKYGPKEVGRMGIKLLSSFFRSVGL-SAAPVSHEGRGRKPALHANFGLTTK-RPSRPLGLMPAFEAPLSILLFFGYMLRSPAQSLETPVYRHGFILMRGAGRHYMY 0.555\n",
      "DCATP-PTSHIFRVVASVFYKSCSAGMTPASCAYIEGEHYWKIRGRWGPDEVHNL-VDLSSGFFISLALVYAGPIVHSERSRKHVDEAVFGLPSGSLPRRPSTRLLEFLEPLRILEFNGFL-RSPFYSIEYSVYEAGLIIFHGTGPT-LY 1.001\n",
      "HHMKT-EKAEVFHESMNMFYAGCDGQ-SPSICAYVENGHYFEWGGKYPPLDLLSLAIDLGDQFFETVALIDAGPLVDNTRAHLEGK-AAMGLDVSSYPSRPMGHLPAFFEPLSLLPFLGYILRPSVYSIELDLYTAPWVIFRGAGNALLY 1.244\n",
      "HSFASHEGSHLIRPEMTYFYEACEVN-HACSCAYILSTEYFALTGKYGPKEVGRLG-GLSRAFFRSLALIDAAPVAHHRRGKKH-VIALLGLSTKSRPFRPCGTMPAFQAPLKILLLVGLSYRSS-QSLEEPFYSDNFILFNAAGRLYLY 0.333\n",
      "HPFAA-DKAEVFRGDNGFLYAACGQKDTASSCTYIYKDHYFALGGKYPPIGLHTLVVNLGKQFFGTFALYEAEPISH-SRTHHHAH-AMFGLDTKSAPQHPLGNMPEFYNPLSVLPFLGFNLRPSIFSLEYSLYESEYYIYHGAGRTQMY 0.687\n",
      "HTSAA-STS-IFRKAQDVAYEACD-K-GPTTCTYVETSEYFAAVGKHGPLEV-RLAIGLSHDFFSGVALLAAGPVMG-NRYFVHGH-ALFGLDTDSRPFRPVGH-PAFEAPLRVLLFFGYMLRDSLLSLE-PIYEIGYVVFRTAGRH-MY 0.601\n",
      "DKITASPSA-LIREDKSFFYNSCHYAKSAAVCAYIETDHFFELGGKYGPHGMDRLAVVLSDAF-YSIGLVSADPVGLAEREHKSSHLALDGLSTGSLPRHPVGSLPSFFSPLP-LFLLGYIARSPI-SLE-SVYVPGYVVFRGAGRSALY 0.804\n",
      "HDITA-PTSGIGHPGNTVIYAACAGHSYAGSCTYVETRDFFAITGKYEPLDFPRMSIDLGATFFGGVSLLDAAPIITMRRGRDGLTIALFGLASDSWPAWPVGRLPEIFQNLPILELLGFMLRPPFFSLEIDAYTHGY-IFRGSGPH-MY 0.79\n",
      "HTITAGPTSGLGHPGHSVIYAPCAGTSGAGSCTYVEGRDYFALNGKYEPLDFPGFAVTLSGSFFTALALLAAGPVILSYRNKHGGTLALFGLATASRPRRPVGHL-AFFNSLE-LEFLGFLLRSPI-SLELSCYTPGY-VMRGAGNAYLY 0.015\n",
      "HSMTASNTS-IFRVA-SIVYAGCA--DSASTCAYIEESHYFALQGKHPP-IVHRLAVTLSKAFFLSIALMRAGPVIKMQRGREEAVIALFGLASASLPRRPVGHLNSFPAPLKVLMFLGFSLRDDA-SLE-DFYSPDYVVVRGAGRHQLY 0.017\n"
     ]
    }
   ],
   "source": [
    "f = parser(150, t) \n",
    "f.random_aln()\n",
    "f.file\n",
    "f.root_seq()\n",
    "f.seq\n",
    "f.dists()\n",
    "#f.normal()\n",
    "f.seq\n",
    "f.make_sample()\n",
    "f.app_inf()"
   ]
  },
  {
   "cell_type": "code",
   "execution_count": 185,
   "metadata": {},
   "outputs": [],
   "source": [
    "with open('../../out.fasta', 'w') as out:\n",
    "    for item in f.sample:\n",
    "        if item.name != '':\n",
    "            out.write('>'+str(item.name)+'\\n'+str(item.seq)+'\\n')"
   ]
  },
  {
   "cell_type": "code",
   "execution_count": null,
   "metadata": {},
   "outputs": [],
   "source": []
  }
 ],
 "metadata": {
  "kernelspec": {
   "display_name": "Python 3",
   "language": "python",
   "name": "python3"
  },
  "language_info": {
   "codemirror_mode": {
    "name": "ipython",
    "version": 3
   },
   "file_extension": ".py",
   "mimetype": "text/x-python",
   "name": "python",
   "nbconvert_exporter": "python",
   "pygments_lexer": "ipython3",
   "version": "3.6.5"
  }
 },
 "nbformat": 4,
 "nbformat_minor": 2
}
