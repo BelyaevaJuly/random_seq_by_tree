{
 "cells": [
  {
   "cell_type": "code",
   "execution_count": 16,
   "metadata": {},
   "outputs": [],
   "source": [
    "import ete3\n",
    "from ete3 import Tree\n",
    "import os\n",
    "import os\n",
    "import glob\n",
    "import numpy as np\n",
    "from Bio import AlignIO \n",
    "import random\n",
    "import re"
   ]
  },
  {
   "cell_type": "code",
   "execution_count": 2,
   "metadata": {},
   "outputs": [],
   "source": [
    "t = Tree(\"(((A:0.687, B:0.601):1.244,(C:0.804,(D:0.015, E:0.017):0.79):0.333):0.555,F:1.001);\")"
   ]
  },
  {
   "cell_type": "code",
   "execution_count": 3,
   "metadata": {},
   "outputs": [
    {
     "data": {
      "text/plain": [
       "Tree node '' (0x7f0728f0fa9)"
      ]
     },
     "execution_count": 3,
     "metadata": {},
     "output_type": "execute_result"
    }
   ],
   "source": [
    "t"
   ]
  },
  {
   "cell_type": "code",
   "execution_count": 4,
   "metadata": {},
   "outputs": [],
   "source": [
    "os.getcwd()\n",
    "os.chdir(\"./Alignments/block_aln/\")"
   ]
  },
  {
   "cell_type": "markdown",
   "metadata": {},
   "source": [
    "# Getting block-alignment"
   ]
  },
  {
   "cell_type": "code",
   "execution_count": 409,
   "metadata": {},
   "outputs": [],
   "source": [
    "for file in glob.glob(\"*.fasta\"):\n",
    "    with open(file, 'r') as fname:\n",
    "        matrix = np.array([np.array(rec.seq) for rec in AlignIO.read(fname, \"fasta\")])\n",
    "        names = [rec.name for rec in AlignIO.read(\"PF00004_1.fasta\", \"fasta\")]\n",
    "        indexes = [num for num in range(matrix.shape[1]) if list(matrix[:,num]).count(\"-\") > len(matrix[:,num]) * 0.5]\n",
    "        matrix = np.delete(matrix, indexes, axis=1)\n",
    "    with open(\"./block_aln/\"+file.split(\".\")[0]+\"_block.fasta\", 'w') as fname:\n",
    "        for name, seq in zip(names, list(matrix)):\n",
    "            fname.write(\">\" + name + '\\n' + ''.join(list(seq)) + '\\n')"
   ]
  },
  {
   "cell_type": "markdown",
   "metadata": {},
   "source": [
    "# Generating random sequence"
   ]
  },
  {
   "cell_type": "code",
   "execution_count": 4,
   "metadata": {},
   "outputs": [],
   "source": [
    "import random\n",
    "import string\n",
    "import re"
   ]
  },
  {
   "cell_type": "code",
   "execution_count": 5,
   "metadata": {},
   "outputs": [],
   "source": [
    "class node():\n",
    "    def __init__(self, name, dist, seq):\n",
    "        self.name = name\n",
    "        self.dist = dist\n",
    "        self.seq = seq\n",
    "        self.ancestor = ancestor"
   ]
  },
  {
   "cell_type": "code",
   "execution_count": 6,
   "metadata": {},
   "outputs": [],
   "source": [
    "def random_link(anc, names = [], sequences = [], link=''):\n",
    "    while link == '':\n",
    "        try:\n",
    "            with open(random.choice([fname for fname in glob.glob(\"*.fasta\")]), 'r') as aln:\n",
    "                for string in aln:\n",
    "                    if \">\" in string: names.append(string.strip())\n",
    "                    else: sequences.append(string.strip())\n",
    "                link = random.choice([[str(aln).split(\"'\")[1], name[1:], seq] for name, seq in zip(names, sequences) if seq[0] == anc[0]])\n",
    "                return link\n",
    "        except:\n",
    "            pass"
   ]
  },
  {
   "cell_type": "code",
   "execution_count": 9,
   "metadata": {},
   "outputs": [
    {
     "name": "stdout",
     "output_type": "stream",
     "text": [
      "['PF02469_1_block.fasta', 'METAR', 'LELSSFLAAVFSTNLADTLRTFPRTTLLIPPNSAFKRLGMLVAASSKADLERVIQHHAL-ADVEYA--AALVNGRTFSTLEGSDVHVDRRANGSVILGQAQLEPRDLLTQTGVIHEVSDIMIP']\n"
     ]
    }
   ],
   "source": [
    "import random\n",
    "import string\n",
    "import re\n",
    "\n",
    "i, sp =  -1, []\n",
    "anc = ''.join([random.choice(string.ascii_uppercase) for _ in range(25)])\n",
    "\n",
    "for nod in t.traverse(\"levelorder\"): \n",
    "    #Giving name to node\n",
    "    i+= 1\n",
    "    if nod.name == '': name = i\n",
    "    else: name = nod.name\n",
    "        \n",
    "    #Making anchor-sequence\n",
    "    if i == 0:\n",
    "        seq = anc\n",
    "        link = random_link(anc) # anc - ancestor, link - to generate now\n",
    "        print(link)\n",
    "        #search_pair(link, 0.555)"
   ]
  },
  {
   "cell_type": "code",
   "execution_count": 7,
   "metadata": {},
   "outputs": [],
   "source": [
    "def search_pair(link, x, names = [], dists = [], main = []):\n",
    "    with open(link[0][:-12] + \".dist\", 'r') as matrix:\n",
    "        for string in matrix:\n",
    "            if re.search(\"[A-Za-z]+\", string) != None:\n",
    "                if dists != []:\n",
    "                    main.append(dists)\n",
    "                names.append(string.split()[0])\n",
    "                dists = [i for i in string.split()[1:]]\n",
    "            else:\n",
    "                dists += [i for i in string.strip().split()]\n",
    "        main.append(dists)\n",
    "        main = main[1:]\n",
    "        #names.index(link[1])\n",
    "        \n",
    "        \n",
    "        newmain = [item[names.index(link[1])] for item in main]\n",
    "        \n",
    "        ost_minus, ost_plus = 2, 2\n",
    "        for num in newmain:\n",
    "            if x <= float(num) and (float(num) - x) < ost_plus: \n",
    "                ost_plus = float(num) - x\n",
    "                id_plus = num\n",
    "            elif x > float(num) and (x - float(num)) < ost_minus: \n",
    "                ost_minus = x - float(num)\n",
    "                id_minus = num\n",
    "                \n",
    "        return names[newmain.index(id_minus)], names[newmain.index(id_plus)]"
   ]
  },
  {
   "cell_type": "code",
   "execution_count": 10,
   "metadata": {},
   "outputs": [
    {
     "data": {
      "text/plain": [
       "('METAR', 'COLGM')"
      ]
     },
     "execution_count": 10,
     "metadata": {},
     "output_type": "execute_result"
    }
   ],
   "source": [
    "#print(link[1])\n",
    "search_pair(link, 0.555)"
   ]
  },
  {
   "cell_type": "code",
   "execution_count": 8,
   "metadata": {},
   "outputs": [],
   "source": [
    "from Bio import Align"
   ]
  },
  {
   "cell_type": "markdown",
   "metadata": {},
   "source": [
    "# New way"
   ]
  },
  {
   "cell_type": "code",
   "execution_count": 55,
   "metadata": {},
   "outputs": [],
   "source": [
    "#Choosing random alignment\n",
    "x = 50\n",
    "while True:\n",
    "    file = random.choice([file for file in glob.glob(\"*.fasta\")])\n",
    "    if len(str(AlignIO.read(open(file, 'r'), \"fasta\")[0].seq)) >= x:\n",
    "        break"
   ]
  },
  {
   "cell_type": "code",
   "execution_count": 56,
   "metadata": {},
   "outputs": [],
   "source": [
    "column_id = [random.randint(0, x) for _ in range(x)]\n",
    "a = AlignIO.read(open(file, 'r'), \"fasta\")"
   ]
  },
  {
   "cell_type": "code",
   "execution_count": 57,
   "metadata": {},
   "outputs": [],
   "source": [
    "names, seq = [],''\n",
    "for num in range(x):\n",
    "    record = random.randint(0, len(a))\n",
    "    names.append(a[record].id)\n",
    "    seq += str(a[record].seq)[column_id[num]]"
   ]
  },
  {
   "cell_type": "code",
   "execution_count": 195,
   "metadata": {},
   "outputs": [
    {
     "name": "stdout",
     "output_type": "stream",
     "text": [
      " \t 0.0 \t [Tree node '' (-0x7ffff80465a164c4), Tree node 'F' (-0x7ffff80465a164ee)]\n",
      " \t 0.555 \t [Tree node '' (-0x7ffff80465a16477), Tree node '' (-0x7ffff80465a164d9)]\n",
      "F \t 1.001 \t []\n",
      " \t 1.244 \t [Tree node 'A' (0x7fb9a5e9bc5), Tree node 'B' (-0x7ffff80465a164a8)]\n",
      " \t 0.333 \t [Tree node 'C' (-0x7ffff80465a164bd), Tree node '' (-0x7ffff80465a164cb)]\n",
      "A \t 0.687 \t []\n",
      "B \t 0.601 \t []\n",
      "C \t 0.804 \t []\n",
      " \t 0.79 \t [Tree node 'D' (0x7fb9a5e9b6a), Tree node 'E' (0x7fb9a5e9b08)]\n",
      "D \t 0.015 \t []\n",
      "E \t 0.017 \t []\n"
     ]
    }
   ],
   "source": [
    "for node in t.traverse(\"levelorder\"):\n",
    "    print(node.name, '\\t', node.dist, '\\t', node.children)"
   ]
  },
  {
   "cell_type": "code",
   "execution_count": 60,
   "metadata": {},
   "outputs": [],
   "source": [
    "nodes = []\n",
    "nodes.append(node('root', 0.0, [\"Tree node '' (-0x7ffff80462fd3446)\", \"Tree node 'F' (-0x7ffff80462fd3462)\"],seq))"
   ]
  },
  {
   "cell_type": "code",
   "execution_count": 11,
   "metadata": {},
   "outputs": [],
   "source": [
    "class nd:\n",
    "    def __init__(self, seq):\n",
    "        self.seq = seq\n",
    "        \n",
    "    def children(self, children):\n",
    "        self.children = children"
   ]
  },
  {
   "cell_type": "code",
   "execution_count": 74,
   "metadata": {},
   "outputs": [],
   "source": [
    "class parser(nd):\n",
    "    def __init__(self, x, tree):\n",
    "        self.x = x\n",
    "        self.t = tree\n",
    "        super().__init__(0)\n",
    "\n",
    "    #Choose random alignment (with seq_len more than self.x)\n",
    "    def random_aln(self):\n",
    "        while True:\n",
    "            file = random.choice([file for file in glob.glob(\"*.fasta\")])\n",
    "            aln = AlignIO.read(open(file, 'r'), \"fasta\")\n",
    "            if len(str(aln[0].seq)) >= self.x:\n",
    "                break\n",
    "        self.file = file\n",
    "        self.alignment_dict = {record.id:str(record.seq) for record in aln}\n",
    "        \n",
    "    #Make root sequence and pin columns   \n",
    "    def root_seq(self):\n",
    "        column_id = [random.randint(0, self.x) for _ in range(self.x)]\n",
    "        a = AlignIO.read(open(self.file, 'r'), \"fasta\")\n",
    "        names, seq = [],''\n",
    "        for num in range(self.x):\n",
    "            record = random.randint(0, len(a)-1)\n",
    "            names.append(a[record].id)\n",
    "            seq += str(a[record].seq)[column_id[num]] \n",
    "        self.columns = column_id\n",
    "        self.seq = seq\n",
    "        self.names = names\n",
    "             \n",
    "    #Make all_dists and all_id lists\n",
    "    def dists(self):\n",
    "        all_id, all_dists, values, one_id = [], [], [], ''\n",
    "        with open(self.file[:-12]+\".dist\", 'r') as fname:\n",
    "            for string in fname:\n",
    "                if re.search(\"[A-Za-z]+\", string) != None:\n",
    "                    all_id.append(one_id)\n",
    "                    all_dists.append(values)\n",
    "                    one_id, values = string.split()[0], string.split()[1:]\n",
    "                else:\n",
    "                    values += string.split()\n",
    "            all_id.append(one_id)\n",
    "            all_dists.append(values)\n",
    "        self.all_id = all_id[1:]\n",
    "        self.all_dists = all_dists[1:]\n",
    "        \n",
    "    #ATTEMPTS IN NORMALIZATION\n",
    "    def normal(self):\n",
    "        diff = abs(max([max(list(map(lambda x: float(x), group))) for group in self.all_dists])-min([min(list(map(lambda x: float(x), group))) for group in self.all_dists]))\n",
    "        tree_diff = abs(max([n.dist for n in self.t.traverse()][1:])-min([n.dist for n in self.t.traverse()][1:]))\n",
    "        alpha = diff/tree_diff\n",
    "        #print(diff, tree_diff,alpha)\n",
    "        #print(self.all_dists[0])\n",
    "        #print([list(map(lambda x: float(x)/alpha, i)) for i in self.all_dists][0])\n",
    "        \n",
    "    #Make sequences\n",
    "    def make_sample(self):\n",
    "        nodes, graph, lvl = [], [], -1\n",
    "        #self.nodes.append(node('root', 0.0, self.root_seq))\n",
    "        for node in self.t.traverse(\"levelorder\"):\n",
    "            for i in list(map(lambda x: x.dist, node.children)):\n",
    "                graph.append([node.dist, i])     \n",
    "        self.graph = graph  \n",
    "        lvl = 0\n",
    "        while self.graph[lvl][0] == 0.0:\n",
    "            self.graph[lvl][0] = self.names \n",
    "            lvl += 1     \n",
    "        for item in graph:\n",
    "            self.names = item[0]\n",
    "            dist = float(item[1])\n",
    "            seq = ''\n",
    "            names = []\n",
    "            less, more, less_index, more_index = 100, 100, 0, 0\n",
    "            # Generating sequence\n",
    "            for ancester_letter_iden in self.names:\n",
    "                #List with needed dists\n",
    "                values = self.all_dists[self.all_id.index(ancester_letter_iden)]\n",
    "                for value in values:\n",
    "                    if float(value) <= dist and abs(dist-float(value)) < abs(dist-less):\n",
    "                        less_index = values.index(value)\n",
    "                    elif float(value) > dist and abs(float(value)-dist) < abs(more-dist):\n",
    "                        more_index = values.index(value)     \n",
    "                ind = random.choice([less_index, more_index])\n",
    "                names.append(self.all_id[ind])\n",
    "                seq += self.alignment_dict[self.all_id[ind]][self.columns[self.names.index(ancester_letter_iden)]]\n",
    "            i = 0\n",
    "            while True:\n",
    "                if i == len(graph):\n",
    "                    break\n",
    "                if self.graph[i][0] == dist:\n",
    "                    break\n",
    "                i += 1\n",
    "            while True:\n",
    "                if i == len(graph):\n",
    "                    break\n",
    "                if self.graph[i][0] != dist:\n",
    "                    break\n",
    "                if self.graph[i][0] == dist:\n",
    "                    self.graph[i][0] = names\n",
    "                i += 1\n",
    "            print(seq)\n",
    "            nodes.append(nd(seq))\n",
    "        self.sample = nodes"
   ]
  },
  {
   "cell_type": "code",
   "execution_count": 75,
   "metadata": {},
   "outputs": [
    {
     "name": "stdout",
     "output_type": "stream",
     "text": [
      "2.249669 1.229 1.8304873881204229\n",
      "['0.000000', '2.135184', '1.947076', '1.816058', '1.787424', '1.823496', '1.823376', '1.818364', '1.844260', '1.955134', '1.789274', '1.827090', '1.736305', '1.821036', '1.791157', '1.875607', '1.825280', '1.747931', '1.759242', '1.764520', '1.875017', '1.838406', '1.901238', '1.865003', '1.895855', '1.897899', '1.920592', '1.992894', '1.966275', '1.962092', '2.060813', '2.039539', '2.123586', '2.130595', '1.945190', '2.225127', '1.995855', '2.090920', '2.058608', '2.048443', '1.909909', '2.249669', '2.134849', '2.044306', '2.048780', '2.238797', '2.052852', '2.167550', '2.076485', '1.843117']\n",
      "[0.0, 1.1664565480521805, 1.063692660564732, 0.9921171879063099, 0.97647435956134, 0.9961805865662905, 0.9961150302555623, 0.9933769616774736, 1.0075240135326575, 1.0680947668301426, 0.9774850193517359, 0.9981439980726056, 0.9485479174936403, 0.9948366821963588, 0.978513707127582, 1.0246489608026783, 0.9971551903857858, 0.9548992313980413, 0.9610784599867804, 0.9639618450536502, 1.0243266422749304, 1.0043259581742916, 1.0386512424716703, 1.0188559681446472, 1.0357104956329133, 1.0368271381256533, 1.0492243827869792, 1.0887231526060057, 1.0741811239786831, 1.07189594024721, 1.1258274781756785, 1.1142054368887158, 1.1601205306202824, 1.1639495654694092, 1.0626623338811176, 1.215592641850868, 1.0903407545732284, 1.1422750102348391, 1.1246228809660446, 1.1190697151447613, 1.0433882322243853, 1.229, 1.16627353668473, 1.1168096613324008, 1.1192538191173902, 1.223060598248009, 1.12147836326144, 1.1841381776608026, 1.1343891323568045, 1.0068995896729698]\n",
      "LLNDYDALGPTKYDLLLYTELHELLPGPGPVIAATPHAEYGYTAASKLLAKKSKSNNTSPLSHTLSQHYSDGPKIKLYKSVFLSAPLTSYIYFPHSITTE\n",
      "LFPGTDLLGPAGYLSLDYLSDNQLNSGPGPASAVFPNASYGYLLLSGS-PMKLDS-NLEPISNT-SNNYSDGPGIMVYQ-LRVGAPPTSYSYTPNDSALQ\n",
      "PTPLLTLTSLTLTTLAA-LTAALTLLTTALTTLTLTLLLAA-LLLLLTLATTTILLTTATLLLPLTTLTTLSTLLTTTPTPPLALTLIPLTYCLLLTIIT\n",
      "LLNLLLLLSALALLLALYLLAALLNLLLALLTLSLLALLALYLLLLALNALLLTLLLLALLLANNLLALLLSLALLLLPLPLALLLLLPLLYCALALTTL\n",
      "PTNNNTPPSNPPLLNTTYPTLLNTLNTTTNTPPNPLNNPTLYNNPNNLLLTTTYNPTLLLNNNYNLTPLTPSLPNTLLNLNLNLPLNYPPLPNNPPNYYL\n",
      "PLPPPLPPSPPPTTPTL-PLLLPLNPLLLPTPPPPLPPPTTYPPPPPLNTTLLYPPLLLLPPPYNLLPLTPSLPPTLLPLPLPTPTP-PPLPPPPPPYYT\n",
      "LLPGIIIIIPTPLIIPILIDPPGLLDLDPGDLGSLLPILPILDLIIPDLPLGLLIDIDPLLGPNLDLPLLILLPLIDLIGLPPIDILTIGDICPIPTLII\n",
      "LLPGLLIILPTPILLPILLGPPGLIGLGPGGIDTLIPILPILDLLIPDLPLGLIIDIDPLIGPNIGIPLILLLPILGIIGILPLGILTLDGLCPLPIILI\n",
      "PLLDPPLLPPLPTPLPLPLDPPDPTGLDGDGTPPPTPTLLLLLPLLLPLLLDLTTLLPGPLDLLLDTLPTLPPGTLGTTGTLGLGTLLPPGLLGLPLTPL\n",
      "PLLDPPLTPPPPLPPPLPPGPLGPTDPDGGDTPLPTLLPPTPPPLLLLLPLDLLTPLLGLLGLTTDLPPLLPPGLPDTLGTLGPGLPPPLDPLGLLLTPL\n"
     ]
    }
   ],
   "source": [
    "f = parser(100, t)\n",
    "f.random_aln()\n",
    "f.file\n",
    "f.root_seq()\n",
    "f.seq\n",
    "f.dists()\n",
    "f.normal()\n",
    "f.seq\n",
    "f.make_sample()"
   ]
  },
  {
   "cell_type": "code",
   "execution_count": 44,
   "metadata": {},
   "outputs": [
    {
     "data": {
      "text/plain": [
       "1.229"
      ]
     },
     "execution_count": 44,
     "metadata": {},
     "output_type": "execute_result"
    }
   ],
   "source": [
    "abs(max([n.dist for n in t.traverse()][1:])-min([n.dist for n in t.traverse()][1:]))"
   ]
  },
  {
   "cell_type": "code",
   "execution_count": 45,
   "metadata": {},
   "outputs": [
    {
     "data": {
      "text/plain": [
       "1.244"
      ]
     },
     "execution_count": 45,
     "metadata": {},
     "output_type": "execute_result"
    }
   ],
   "source": [
    "max([n.dist for n in t.traverse()][1:])"
   ]
  },
  {
   "cell_type": "code",
   "execution_count": 47,
   "metadata": {},
   "outputs": [
    {
     "data": {
      "text/plain": [
       "0.015"
      ]
     },
     "execution_count": 47,
     "metadata": {},
     "output_type": "execute_result"
    }
   ],
   "source": [
    "min([n.dist for n in t.traverse()][1:])"
   ]
  },
  {
   "cell_type": "code",
   "execution_count": 55,
   "metadata": {},
   "outputs": [],
   "source": [
    "a1 = 3.53098-0"
   ]
  },
  {
   "cell_type": "code",
   "execution_count": 56,
   "metadata": {},
   "outputs": [],
   "source": [
    "a2 = 1.244-0.015"
   ]
  },
  {
   "cell_type": "code",
   "execution_count": 57,
   "metadata": {},
   "outputs": [],
   "source": [
    "mn = 3.53098/1.229"
   ]
  },
  {
   "cell_type": "code",
   "execution_count": 58,
   "metadata": {},
   "outputs": [
    {
     "data": {
      "text/plain": [
       "2.8730512611879573"
      ]
     },
     "execution_count": 58,
     "metadata": {},
     "output_type": "execute_result"
    }
   ],
   "source": [
    "mn"
   ]
  },
  {
   "cell_type": "code",
   "execution_count": 59,
   "metadata": {},
   "outputs": [
    {
     "data": {
      "text/plain": [
       "(3.53098, 1.229)"
      ]
     },
     "execution_count": 59,
     "metadata": {},
     "output_type": "execute_result"
    }
   ],
   "source": [
    "a1, a2"
   ]
  },
  {
   "cell_type": "code",
   "execution_count": 60,
   "metadata": {},
   "outputs": [
    {
     "data": {
      "text/plain": [
       "1.229"
      ]
     },
     "execution_count": 60,
     "metadata": {},
     "output_type": "execute_result"
    }
   ],
   "source": [
    "a1/mn"
   ]
  },
  {
   "cell_type": "code",
   "execution_count": null,
   "metadata": {},
   "outputs": [],
   "source": []
  }
 ],
 "metadata": {
  "kernelspec": {
   "display_name": "Python 3",
   "language": "python",
   "name": "python3"
  },
  "language_info": {
   "codemirror_mode": {
    "name": "ipython",
    "version": 3
   },
   "file_extension": ".py",
   "mimetype": "text/x-python",
   "name": "python",
   "nbconvert_exporter": "python",
   "pygments_lexer": "ipython3",
   "version": "3.6.5"
  }
 },
 "nbformat": 4,
 "nbformat_minor": 2
}
